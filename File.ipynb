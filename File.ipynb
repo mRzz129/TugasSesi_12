{
 "cells": [
  {
   "cell_type": "code",
   "execution_count": 8,
   "id": "a7a9411d",
   "metadata": {},
   "outputs": [
    {
     "name": "stdout",
     "output_type": "stream",
     "text": [
      "Masukan text: Moh Mirza YUsuf HUmaedy\n",
      "Moh Mirza YUsuf HUmaedy\n",
      "Jumlah huruf besar:  6\n"
     ]
    }
   ],
   "source": [
    "import Modul\n",
    "\n",
    "text = input(\"Masukan text: \")\n",
    "HurufGede = kapitalCount(text);\n",
    "print(text)\n",
    "print(\"Jumlah huruf besar: \", HurufGede)\n",
    "\n"
   ]
  },
  {
   "cell_type": "code",
   "execution_count": null,
   "id": "89162069",
   "metadata": {},
   "outputs": [],
   "source": []
  }
 ],
 "metadata": {
  "kernelspec": {
   "display_name": "Python 3 (ipykernel)",
   "language": "python",
   "name": "python3"
  },
  "language_info": {
   "codemirror_mode": {
    "name": "ipython",
    "version": 3
   },
   "file_extension": ".py",
   "mimetype": "text/x-python",
   "name": "python",
   "nbconvert_exporter": "python",
   "pygments_lexer": "ipython3",
   "version": "3.9.12"
  }
 },
 "nbformat": 4,
 "nbformat_minor": 5
}
